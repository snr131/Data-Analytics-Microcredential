{
  "nbformat": 4,
  "nbformat_minor": 0,
  "metadata": {
    "colab": {
      "name": "office-supply-analysis.ipynb",
      "provenance": [],
      "collapsed_sections": [],
      "mount_file_id": "1ShqkGW-IFecEKjcmWfoFxNWTIxaLhIqi",
      "authorship_tag": "ABX9TyNXkfTsAmO+RBrMyuz5CVnQ",
      "include_colab_link": true
    },
    "kernelspec": {
      "name": "python3",
      "display_name": "Python 3"
    }
  },
  "cells": [
    {
      "cell_type": "markdown",
      "metadata": {
        "id": "view-in-github",
        "colab_type": "text"
      },
      "source": [
        "<a href=\"https://colab.research.google.com/github/snr131/Data-Analytics-Microcredential/blob/projects/office_supply_analysis.ipynb\" target=\"_parent\"><img src=\"https://colab.research.google.com/assets/colab-badge.svg\" alt=\"Open In Colab\"/></a>"
      ]
    },
    {
      "cell_type": "markdown",
      "metadata": {
        "id": "qJW-fPGKbzo-"
      },
      "source": [
        "# Office Supply Analysis\r\n",
        "A fictitious office supply company operates three regional offices \"Regions\" which sell five products \"Items.\"   \r\n",
        "\r\n"
      ]
    },
    {
      "cell_type": "code",
      "metadata": {
        "id": "EK1zog-2D8zK"
      },
      "source": [
        "# import pandas and define a variable with which to view the data\r\n",
        "import pandas as pd"
      ],
      "execution_count": 1,
      "outputs": []
    },
    {
      "cell_type": "code",
      "metadata": {
        "id": "NEPky1CMERjY"
      },
      "source": [
        "df = pd.read_csv('/content/drive/MyDrive/School/Microcredential/Tableau/OfficeSupplies.csv')"
      ],
      "execution_count": 2,
      "outputs": []
    },
    {
      "cell_type": "code",
      "metadata": {
        "colab": {
          "base_uri": "https://localhost:8080/"
        },
        "id": "oEyqNBqaGuT2",
        "outputId": "943745f2-a0c8-4bf8-d515-76289528b0f5"
      },
      "source": [
        "# use the info function to view a summary of the data provided\r\n",
        "df.info()"
      ],
      "execution_count": 3,
      "outputs": [
        {
          "output_type": "stream",
          "text": [
            "<class 'pandas.core.frame.DataFrame'>\n",
            "RangeIndex: 43 entries, 0 to 42\n",
            "Data columns (total 6 columns):\n",
            " #   Column      Non-Null Count  Dtype  \n",
            "---  ------      --------------  -----  \n",
            " 0   OrderDate   43 non-null     object \n",
            " 1   Region      43 non-null     object \n",
            " 2   Rep         43 non-null     object \n",
            " 3   Item        43 non-null     object \n",
            " 4   Units       43 non-null     int64  \n",
            " 5   Unit Price  43 non-null     float64\n",
            "dtypes: float64(1), int64(1), object(4)\n",
            "memory usage: 2.1+ KB\n"
          ],
          "name": "stdout"
        }
      ]
    },
    {
      "cell_type": "code",
      "metadata": {
        "colab": {
          "base_uri": "https://localhost:8080/",
          "height": 639
        },
        "id": "fDHU8fq2fApO",
        "outputId": "191b9421-f83b-4634-e71c-a5ad4d9a9fcc"
      },
      "source": [
        "# price per unit differs across regions, e.g. the price of the Pen Set isn't the same for all Pen Sets sold\r\n",
        "df.head(20)"
      ],
      "execution_count": 4,
      "outputs": [
        {
          "output_type": "execute_result",
          "data": {
            "text/html": [
              "<div>\n",
              "<style scoped>\n",
              "    .dataframe tbody tr th:only-of-type {\n",
              "        vertical-align: middle;\n",
              "    }\n",
              "\n",
              "    .dataframe tbody tr th {\n",
              "        vertical-align: top;\n",
              "    }\n",
              "\n",
              "    .dataframe thead th {\n",
              "        text-align: right;\n",
              "    }\n",
              "</style>\n",
              "<table border=\"1\" class=\"dataframe\">\n",
              "  <thead>\n",
              "    <tr style=\"text-align: right;\">\n",
              "      <th></th>\n",
              "      <th>OrderDate</th>\n",
              "      <th>Region</th>\n",
              "      <th>Rep</th>\n",
              "      <th>Item</th>\n",
              "      <th>Units</th>\n",
              "      <th>Unit Price</th>\n",
              "    </tr>\n",
              "  </thead>\n",
              "  <tbody>\n",
              "    <tr>\n",
              "      <th>0</th>\n",
              "      <td>4-Jul-2014</td>\n",
              "      <td>East</td>\n",
              "      <td>Richard</td>\n",
              "      <td>Pen Set</td>\n",
              "      <td>62</td>\n",
              "      <td>4.99</td>\n",
              "    </tr>\n",
              "    <tr>\n",
              "      <th>1</th>\n",
              "      <td>12-Jul-2014</td>\n",
              "      <td>East</td>\n",
              "      <td>Nick</td>\n",
              "      <td>Binder</td>\n",
              "      <td>29</td>\n",
              "      <td>1.99</td>\n",
              "    </tr>\n",
              "    <tr>\n",
              "      <th>2</th>\n",
              "      <td>21-Jul-2014</td>\n",
              "      <td>Central</td>\n",
              "      <td>Morgan</td>\n",
              "      <td>Pen Set</td>\n",
              "      <td>55</td>\n",
              "      <td>12.49</td>\n",
              "    </tr>\n",
              "    <tr>\n",
              "      <th>3</th>\n",
              "      <td>29-Jul-2014</td>\n",
              "      <td>East</td>\n",
              "      <td>Susan</td>\n",
              "      <td>Binder</td>\n",
              "      <td>81</td>\n",
              "      <td>19.99</td>\n",
              "    </tr>\n",
              "    <tr>\n",
              "      <th>4</th>\n",
              "      <td>7-Aug-2014</td>\n",
              "      <td>Central</td>\n",
              "      <td>Matthew</td>\n",
              "      <td>Pen Set</td>\n",
              "      <td>42</td>\n",
              "      <td>23.95</td>\n",
              "    </tr>\n",
              "    <tr>\n",
              "      <th>5</th>\n",
              "      <td>15-Aug-2014</td>\n",
              "      <td>East</td>\n",
              "      <td>Richard</td>\n",
              "      <td>Pencil</td>\n",
              "      <td>35</td>\n",
              "      <td>4.99</td>\n",
              "    </tr>\n",
              "    <tr>\n",
              "      <th>6</th>\n",
              "      <td>24-Aug-2014</td>\n",
              "      <td>West</td>\n",
              "      <td>James</td>\n",
              "      <td>Desk</td>\n",
              "      <td>3</td>\n",
              "      <td>275.00</td>\n",
              "    </tr>\n",
              "    <tr>\n",
              "      <th>7</th>\n",
              "      <td>1-Sep-2014</td>\n",
              "      <td>Central</td>\n",
              "      <td>Smith</td>\n",
              "      <td>Desk</td>\n",
              "      <td>2</td>\n",
              "      <td>125.00</td>\n",
              "    </tr>\n",
              "    <tr>\n",
              "      <th>8</th>\n",
              "      <td>10-Sep-2014</td>\n",
              "      <td>Central</td>\n",
              "      <td>Bill</td>\n",
              "      <td>Pencil</td>\n",
              "      <td>7</td>\n",
              "      <td>1.29</td>\n",
              "    </tr>\n",
              "    <tr>\n",
              "      <th>9</th>\n",
              "      <td>18-Sep-2014</td>\n",
              "      <td>East</td>\n",
              "      <td>Richard</td>\n",
              "      <td>Pen Set</td>\n",
              "      <td>16</td>\n",
              "      <td>15.99</td>\n",
              "    </tr>\n",
              "    <tr>\n",
              "      <th>10</th>\n",
              "      <td>27-Sep-2014</td>\n",
              "      <td>West</td>\n",
              "      <td>James</td>\n",
              "      <td>Pen</td>\n",
              "      <td>76</td>\n",
              "      <td>1.99</td>\n",
              "    </tr>\n",
              "    <tr>\n",
              "      <th>11</th>\n",
              "      <td>5-Oct-2014</td>\n",
              "      <td>Central</td>\n",
              "      <td>Morgan</td>\n",
              "      <td>Binder</td>\n",
              "      <td>28</td>\n",
              "      <td>8.99</td>\n",
              "    </tr>\n",
              "    <tr>\n",
              "      <th>12</th>\n",
              "      <td>14-Oct-2014</td>\n",
              "      <td>West</td>\n",
              "      <td>Thomas</td>\n",
              "      <td>Binder</td>\n",
              "      <td>57</td>\n",
              "      <td>19.99</td>\n",
              "    </tr>\n",
              "    <tr>\n",
              "      <th>13</th>\n",
              "      <td>22-Oct-2014</td>\n",
              "      <td>East</td>\n",
              "      <td>Richard</td>\n",
              "      <td>Pen</td>\n",
              "      <td>64</td>\n",
              "      <td>8.99</td>\n",
              "    </tr>\n",
              "    <tr>\n",
              "      <th>14</th>\n",
              "      <td>31-Oct-2014</td>\n",
              "      <td>Central</td>\n",
              "      <td>Rachel</td>\n",
              "      <td>Pencil</td>\n",
              "      <td>14</td>\n",
              "      <td>1.29</td>\n",
              "    </tr>\n",
              "    <tr>\n",
              "      <th>15</th>\n",
              "      <td>8-Nov-2014</td>\n",
              "      <td>East</td>\n",
              "      <td>Susan</td>\n",
              "      <td>Pen</td>\n",
              "      <td>15</td>\n",
              "      <td>19.99</td>\n",
              "    </tr>\n",
              "    <tr>\n",
              "      <th>16</th>\n",
              "      <td>17-Nov-2014</td>\n",
              "      <td>Central</td>\n",
              "      <td>Alex</td>\n",
              "      <td>Binder</td>\n",
              "      <td>11</td>\n",
              "      <td>4.99</td>\n",
              "    </tr>\n",
              "    <tr>\n",
              "      <th>17</th>\n",
              "      <td>25-Nov-2014</td>\n",
              "      <td>Central</td>\n",
              "      <td>Matthew</td>\n",
              "      <td>Pen Set</td>\n",
              "      <td>96</td>\n",
              "      <td>4.99</td>\n",
              "    </tr>\n",
              "    <tr>\n",
              "      <th>18</th>\n",
              "      <td>4-Dec-2014</td>\n",
              "      <td>Central</td>\n",
              "      <td>Alex</td>\n",
              "      <td>Binder</td>\n",
              "      <td>94</td>\n",
              "      <td>19.99</td>\n",
              "    </tr>\n",
              "    <tr>\n",
              "      <th>19</th>\n",
              "      <td>12-Dec-2014</td>\n",
              "      <td>Central</td>\n",
              "      <td>Smith</td>\n",
              "      <td>Pencil</td>\n",
              "      <td>67</td>\n",
              "      <td>1.29</td>\n",
              "    </tr>\n",
              "  </tbody>\n",
              "</table>\n",
              "</div>"
            ],
            "text/plain": [
              "      OrderDate   Region      Rep     Item  Units  Unit Price\n",
              "0    4-Jul-2014     East  Richard  Pen Set     62        4.99\n",
              "1   12-Jul-2014     East     Nick   Binder     29        1.99\n",
              "2   21-Jul-2014  Central   Morgan  Pen Set     55       12.49\n",
              "3   29-Jul-2014     East    Susan   Binder     81       19.99\n",
              "4    7-Aug-2014  Central  Matthew  Pen Set     42       23.95\n",
              "5   15-Aug-2014     East  Richard   Pencil     35        4.99\n",
              "6   24-Aug-2014     West    James     Desk      3      275.00\n",
              "7    1-Sep-2014  Central    Smith     Desk      2      125.00\n",
              "8   10-Sep-2014  Central     Bill   Pencil      7        1.29\n",
              "9   18-Sep-2014     East  Richard  Pen Set     16       15.99\n",
              "10  27-Sep-2014     West    James      Pen     76        1.99\n",
              "11   5-Oct-2014  Central   Morgan   Binder     28        8.99\n",
              "12  14-Oct-2014     West   Thomas   Binder     57       19.99\n",
              "13  22-Oct-2014     East  Richard      Pen     64        8.99\n",
              "14  31-Oct-2014  Central   Rachel   Pencil     14        1.29\n",
              "15   8-Nov-2014     East    Susan      Pen     15       19.99\n",
              "16  17-Nov-2014  Central     Alex   Binder     11        4.99\n",
              "17  25-Nov-2014  Central  Matthew  Pen Set     96        4.99\n",
              "18   4-Dec-2014  Central     Alex   Binder     94       19.99\n",
              "19  12-Dec-2014  Central    Smith   Pencil     67        1.29"
            ]
          },
          "metadata": {
            "tags": []
          },
          "execution_count": 4
        }
      ]
    },
    {
      "cell_type": "markdown",
      "metadata": {
        "id": "fEUtLKqREC5a"
      },
      "source": [
        "The csv includes OrderDate, Region, Rep, Item, Unit, and Unit Price. \r\n",
        "\r\n",
        "1. Using OrderDate, what is the time period of this csv?\r\n",
        "2. Which of the three regions earns the most in total sales?\r\n",
        "3. Which item is most popular (units sold) overall and per region?\r\n",
        "4. After identifying the most popular item, what is its percentage of total sales across all regions?\r\n",
        "5. Which months have the highest sales?\r\n",
        "6. Which reps have the highest sales, in units sold and total sales?"
      ]
    },
    {
      "cell_type": "markdown",
      "metadata": {
        "id": "rb97nskmgzH9"
      },
      "source": [
        "# 1. Using OrderDate, what is the time period of this csv?\r\n",
        "\r\n",
        "The included time period begins on July 4, 2014 and ends on June 25, 2015. 22 orders were taken during 2014 and 21 orders were taken in 2015. "
      ]
    },
    {
      "cell_type": "code",
      "metadata": {
        "id": "MPPdRaetg9Dc"
      },
      "source": [
        "# covert the OrderDate column to a pandas datetime data type\r\n",
        "df['OrderDate'] = pd.to_datetime(df['OrderDate'])"
      ],
      "execution_count": 5,
      "outputs": []
    },
    {
      "cell_type": "code",
      "metadata": {
        "id": "sYpqnOrhhZr5"
      },
      "source": [
        "# create columns to sort by day, month, and year\r\n",
        "df['Day'] = df['OrderDate'].apply(lambda time: time.day)\r\n",
        "df['Month'] = df['OrderDate'].apply(lambda time: time.month)\r\n",
        "df['Year'] = df['OrderDate'].apply(lambda time: time.year)"
      ],
      "execution_count": 6,
      "outputs": []
    },
    {
      "cell_type": "code",
      "metadata": {
        "colab": {
          "base_uri": "https://localhost:8080/"
        },
        "id": "KNVG5K0R7aeW",
        "outputId": "313c8531-326c-4ee5-ea41-3a90eda92f70"
      },
      "source": [
        "# the min OrderDate is the time period start date\r\n",
        "min(df['OrderDate'])"
      ],
      "execution_count": 7,
      "outputs": [
        {
          "output_type": "execute_result",
          "data": {
            "text/plain": [
              "Timestamp('2014-07-04 00:00:00')"
            ]
          },
          "metadata": {
            "tags": []
          },
          "execution_count": 7
        }
      ]
    },
    {
      "cell_type": "code",
      "metadata": {
        "colab": {
          "base_uri": "https://localhost:8080/"
        },
        "id": "rR5XAEo87oPm",
        "outputId": "538e2423-ad2a-4f57-f470-3507f6906695"
      },
      "source": [
        "# the max OrderDate is the time period end date\r\n",
        "max(df['OrderDate'])"
      ],
      "execution_count": 8,
      "outputs": [
        {
          "output_type": "execute_result",
          "data": {
            "text/plain": [
              "Timestamp('2015-06-25 00:00:00')"
            ]
          },
          "metadata": {
            "tags": []
          },
          "execution_count": 8
        }
      ]
    },
    {
      "cell_type": "code",
      "metadata": {
        "colab": {
          "base_uri": "https://localhost:8080/"
        },
        "id": "YCNMkykhhHG0",
        "outputId": "d8b6bc8c-8188-4b2c-a3a3-7eb6bd2c7552"
      },
      "source": [
        "# just for fun, use value_counts to show the number of orders received during each year in this available time period\r\n",
        "df['Year'].value_counts()"
      ],
      "execution_count": 9,
      "outputs": [
        {
          "output_type": "execute_result",
          "data": {
            "text/plain": [
              "2014    22\n",
              "2015    21\n",
              "Name: Year, dtype: int64"
            ]
          },
          "metadata": {
            "tags": []
          },
          "execution_count": 9
        }
      ]
    },
    {
      "cell_type": "markdown",
      "metadata": {
        "id": "7LcWMkWMe5Dm"
      },
      "source": [
        "# 2. Which of the three regions earns the most in total sales?\r\n",
        "\r\n",
        "The Central region earns the highest in total sales, accountings for about 57% of total sales across all three regions."
      ]
    },
    {
      "cell_type": "code",
      "metadata": {
        "id": "N0vSiPYHFCA6"
      },
      "source": [
        "# create a new column \"Total Sales\" using the existing \"Units\" and \"Unit Price\" columns\r\n",
        "# convert the \"Units\" and \"Unit Price\" columns to integer and float respectively\r\n",
        "df['Units'] = df['Units'].astype(int)\r\n",
        "df['Unit Price'] = df['Unit Price'].astype(float)\r\n",
        "df['Total Sales'] = df['Units'] * df['Unit Price']"
      ],
      "execution_count": 10,
      "outputs": []
    },
    {
      "cell_type": "code",
      "metadata": {
        "colab": {
          "base_uri": "https://localhost:8080/"
        },
        "id": "hntbhfgDK8yl",
        "outputId": "478c526f-6bea-4df7-84be-3e363ee7838b"
      },
      "source": [
        "# check the current columns and corresponding data types\r\n",
        "df.info()"
      ],
      "execution_count": 11,
      "outputs": [
        {
          "output_type": "stream",
          "text": [
            "<class 'pandas.core.frame.DataFrame'>\n",
            "RangeIndex: 43 entries, 0 to 42\n",
            "Data columns (total 10 columns):\n",
            " #   Column       Non-Null Count  Dtype         \n",
            "---  ------       --------------  -----         \n",
            " 0   OrderDate    43 non-null     datetime64[ns]\n",
            " 1   Region       43 non-null     object        \n",
            " 2   Rep          43 non-null     object        \n",
            " 3   Item         43 non-null     object        \n",
            " 4   Units        43 non-null     int64         \n",
            " 5   Unit Price   43 non-null     float64       \n",
            " 6   Day          43 non-null     int64         \n",
            " 7   Month        43 non-null     int64         \n",
            " 8   Year         43 non-null     int64         \n",
            " 9   Total Sales  43 non-null     float64       \n",
            "dtypes: datetime64[ns](1), float64(2), int64(4), object(3)\n",
            "memory usage: 3.5+ KB\n"
          ],
          "name": "stdout"
        }
      ]
    },
    {
      "cell_type": "code",
      "metadata": {
        "colab": {
          "base_uri": "https://localhost:8080/",
          "height": 195
        },
        "id": "ZymiAnOeLdpf",
        "outputId": "6e4395d9-8e29-4caa-f1de-4dced68ad737"
      },
      "source": [
        "# see the new \"Total Sales\" column\r\n",
        "df.head()"
      ],
      "execution_count": 12,
      "outputs": [
        {
          "output_type": "execute_result",
          "data": {
            "text/html": [
              "<div>\n",
              "<style scoped>\n",
              "    .dataframe tbody tr th:only-of-type {\n",
              "        vertical-align: middle;\n",
              "    }\n",
              "\n",
              "    .dataframe tbody tr th {\n",
              "        vertical-align: top;\n",
              "    }\n",
              "\n",
              "    .dataframe thead th {\n",
              "        text-align: right;\n",
              "    }\n",
              "</style>\n",
              "<table border=\"1\" class=\"dataframe\">\n",
              "  <thead>\n",
              "    <tr style=\"text-align: right;\">\n",
              "      <th></th>\n",
              "      <th>OrderDate</th>\n",
              "      <th>Region</th>\n",
              "      <th>Rep</th>\n",
              "      <th>Item</th>\n",
              "      <th>Units</th>\n",
              "      <th>Unit Price</th>\n",
              "      <th>Day</th>\n",
              "      <th>Month</th>\n",
              "      <th>Year</th>\n",
              "      <th>Total Sales</th>\n",
              "    </tr>\n",
              "  </thead>\n",
              "  <tbody>\n",
              "    <tr>\n",
              "      <th>0</th>\n",
              "      <td>2014-07-04</td>\n",
              "      <td>East</td>\n",
              "      <td>Richard</td>\n",
              "      <td>Pen Set</td>\n",
              "      <td>62</td>\n",
              "      <td>4.99</td>\n",
              "      <td>4</td>\n",
              "      <td>7</td>\n",
              "      <td>2014</td>\n",
              "      <td>309.38</td>\n",
              "    </tr>\n",
              "    <tr>\n",
              "      <th>1</th>\n",
              "      <td>2014-07-12</td>\n",
              "      <td>East</td>\n",
              "      <td>Nick</td>\n",
              "      <td>Binder</td>\n",
              "      <td>29</td>\n",
              "      <td>1.99</td>\n",
              "      <td>12</td>\n",
              "      <td>7</td>\n",
              "      <td>2014</td>\n",
              "      <td>57.71</td>\n",
              "    </tr>\n",
              "    <tr>\n",
              "      <th>2</th>\n",
              "      <td>2014-07-21</td>\n",
              "      <td>Central</td>\n",
              "      <td>Morgan</td>\n",
              "      <td>Pen Set</td>\n",
              "      <td>55</td>\n",
              "      <td>12.49</td>\n",
              "      <td>21</td>\n",
              "      <td>7</td>\n",
              "      <td>2014</td>\n",
              "      <td>686.95</td>\n",
              "    </tr>\n",
              "    <tr>\n",
              "      <th>3</th>\n",
              "      <td>2014-07-29</td>\n",
              "      <td>East</td>\n",
              "      <td>Susan</td>\n",
              "      <td>Binder</td>\n",
              "      <td>81</td>\n",
              "      <td>19.99</td>\n",
              "      <td>29</td>\n",
              "      <td>7</td>\n",
              "      <td>2014</td>\n",
              "      <td>1619.19</td>\n",
              "    </tr>\n",
              "    <tr>\n",
              "      <th>4</th>\n",
              "      <td>2014-08-07</td>\n",
              "      <td>Central</td>\n",
              "      <td>Matthew</td>\n",
              "      <td>Pen Set</td>\n",
              "      <td>42</td>\n",
              "      <td>23.95</td>\n",
              "      <td>7</td>\n",
              "      <td>8</td>\n",
              "      <td>2014</td>\n",
              "      <td>1005.90</td>\n",
              "    </tr>\n",
              "  </tbody>\n",
              "</table>\n",
              "</div>"
            ],
            "text/plain": [
              "   OrderDate   Region      Rep     Item  ...  Day  Month  Year  Total Sales\n",
              "0 2014-07-04     East  Richard  Pen Set  ...    4      7  2014       309.38\n",
              "1 2014-07-12     East     Nick   Binder  ...   12      7  2014        57.71\n",
              "2 2014-07-21  Central   Morgan  Pen Set  ...   21      7  2014       686.95\n",
              "3 2014-07-29     East    Susan   Binder  ...   29      7  2014      1619.19\n",
              "4 2014-08-07  Central  Matthew  Pen Set  ...    7      8  2014      1005.90\n",
              "\n",
              "[5 rows x 10 columns]"
            ]
          },
          "metadata": {
            "tags": []
          },
          "execution_count": 12
        }
      ]
    },
    {
      "cell_type": "code",
      "metadata": {
        "id": "8Z17zZmprpbP"
      },
      "source": [
        "# import visualization libraries\r\n",
        "import matplotlib.pyplot as plt\r\n",
        "import seaborn as sns\r\n",
        "sns.set_theme(style=\"whitegrid\")"
      ],
      "execution_count": 13,
      "outputs": []
    },
    {
      "cell_type": "code",
      "metadata": {
        "colab": {
          "base_uri": "https://localhost:8080/"
        },
        "id": "4b9NuGGvLfCy",
        "outputId": "0f748fea-9d30-405a-c2da-e7d2337c628e"
      },
      "source": [
        "# use value_counts to view the number of records per region during the time period (one records probably amounts to one order)  \r\n",
        "df['Region'].value_counts()"
      ],
      "execution_count": 14,
      "outputs": [
        {
          "output_type": "execute_result",
          "data": {
            "text/plain": [
              "Central    24\n",
              "East       13\n",
              "West        6\n",
              "Name: Region, dtype: int64"
            ]
          },
          "metadata": {
            "tags": []
          },
          "execution_count": 14
        }
      ]
    },
    {
      "cell_type": "code",
      "metadata": {
        "colab": {
          "base_uri": "https://localhost:8080/",
          "height": 304
        },
        "id": "khBCP56aSKjm",
        "outputId": "65d24eab-9d07-4061-ad2c-85a6f95f404f"
      },
      "source": [
        "# use a count plot to view the number of records per region during this time period (one records probably amounts to one order) \r\n",
        "sns.countplot(x='Region',data=df,palette=\"flare\")"
      ],
      "execution_count": 15,
      "outputs": [
        {
          "output_type": "execute_result",
          "data": {
            "text/plain": [
              "<matplotlib.axes._subplots.AxesSubplot at 0x7fbecd3ed2b0>"
            ]
          },
          "metadata": {
            "tags": []
          },
          "execution_count": 15
        },
        {
          "output_type": "display_data",
          "data": {
            "image/png": "[encoded data removed]",
            "text/plain": [
              "<Figure size 432x288 with 1 Axes>"
            ]
          },
          "metadata": {
            "tags": []
          }
        }
      ]
    },
    {
      "cell_type": "code",
      "metadata": {
        "colab": {
          "base_uri": "https://localhost:8080/"
        },
        "id": "6Y964EvvkKM4",
        "outputId": "7f579cfa-ece7-4d2d-d517-cc859ff6156a"
      },
      "source": [
        "# use groupby to view the total sales per region\r\n",
        "df.groupby(by=['Region'])['Total Sales'].sum()"
      ],
      "execution_count": 16,
      "outputs": [
        {
          "output_type": "execute_result",
          "data": {
            "text/plain": [
              "Region\n",
              "Central    11139.07\n",
              "East        6002.09\n",
              "West        2486.72\n",
              "Name: Total Sales, dtype: float64"
            ]
          },
          "metadata": {
            "tags": []
          },
          "execution_count": 16
        }
      ]
    },
    {
      "cell_type": "code",
      "metadata": {
        "colab": {
          "base_uri": "https://localhost:8080/"
        },
        "id": "R9byX6Ikl6LN",
        "outputId": "01c45631-99ff-40c4-f815-038dbebc62da"
      },
      "source": [
        "# use sum to find the grand total across all regions\r\n",
        "sum(df['Total Sales'])"
      ],
      "execution_count": 17,
      "outputs": [
        {
          "output_type": "execute_result",
          "data": {
            "text/plain": [
              "19627.879999999997"
            ]
          },
          "metadata": {
            "tags": []
          },
          "execution_count": 17
        }
      ]
    },
    {
      "cell_type": "code",
      "metadata": {
        "colab": {
          "base_uri": "https://localhost:8080/",
          "height": 248
        },
        "id": "UHsleH-em4mR",
        "outputId": "286727d9-9e7e-4025-c14b-b0fb06ada1aa"
      },
      "source": [
        "# plot the total sales by region for a quick visual\r\n",
        "salespie = df.groupby(by=df[\"Region\"]).sum()\r\n",
        "plt.pie(x=salespie[\"Total Sales\"], labels=salespie.index)\r\n",
        "plt.show()"
      ],
      "execution_count": 18,
      "outputs": [
        {
          "output_type": "display_data",
          "data": {
            "image/png": "[encoded data removed]",
            "text/plain": [
              "<Figure size 432x288 with 1 Axes>"
            ]
          },
          "metadata": {
            "tags": []
          }
        }
      ]
    },
    {
      "cell_type": "markdown",
      "metadata": {
        "id": "ANzvNdxfrNkX"
      },
      "source": [
        "# 3. Which item is most popular (units sold) overall and per region?\r\n",
        "\r\n",
        "The most popular item overall is the binder. The least popular item overall is the desk. In the East region indivdual pencils have the highest units sold, desks aren't sold at all. In the Central region pen sets have the highest units sold, and desks least units sold. In the West region indivdual pens have the highest units sold, and pen sets aren't sold at all."
      ]
    },
    {
      "cell_type": "code",
      "metadata": {
        "colab": {
          "base_uri": "https://localhost:8080/"
        },
        "id": "FBWr_ILmcVY7",
        "outputId": "daf187a0-e923-42e3-afd4-4e1efb959b01"
      },
      "source": [
        "# use value_counts to view the number of units sold per item across all regions\r\n",
        "df['Item'].value_counts()"
      ],
      "execution_count": 19,
      "outputs": [
        {
          "output_type": "execute_result",
          "data": {
            "text/plain": [
              "Binder     15\n",
              "Pencil     13\n",
              "Pen Set     7\n",
              "Pen         5\n",
              "Desk        3\n",
              "Name: Item, dtype: int64"
            ]
          },
          "metadata": {
            "tags": []
          },
          "execution_count": 19
        }
      ]
    },
    {
      "cell_type": "code",
      "metadata": {
        "colab": {
          "base_uri": "https://localhost:8080/"
        },
        "id": "E_23b79g94eP",
        "outputId": "3cf7bad4-1770-46fc-eb97-def0a325d873"
      },
      "source": [
        "# when evaluating units sold and revenue earned, consider the price per unit\r\n",
        "# using groupby and mean, see the average cost per unit\r\n",
        "df.groupby('Item')['Unit Price'].mean()"
      ],
      "execution_count": 20,
      "outputs": [
        {
          "output_type": "execute_result",
          "data": {
            "text/plain": [
              "Item\n",
              "Binder      11.524000\n",
              "Desk       175.000000\n",
              "Pen         11.190000\n",
              "Pen Set     11.912857\n",
              "Pencil       2.774615\n",
              "Name: Unit Price, dtype: float64"
            ]
          },
          "metadata": {
            "tags": []
          },
          "execution_count": 20
        }
      ]
    },
    {
      "cell_type": "code",
      "metadata": {
        "colab": {
          "base_uri": "https://localhost:8080/",
          "height": 302
        },
        "id": "0LT2J3WqQizl",
        "outputId": "d679eefb-b92e-4921-c688-0f9700005c61"
      },
      "source": [
        "# use a countplot to show the number of units sold per item across all regions\r\n",
        "sns.countplot(x='Item',data=df,palette=\"flare\")"
      ],
      "execution_count": 21,
      "outputs": [
        {
          "output_type": "execute_result",
          "data": {
            "text/plain": [
              "<matplotlib.axes._subplots.AxesSubplot at 0x7fbecce9b630>"
            ]
          },
          "metadata": {
            "tags": []
          },
          "execution_count": 21
        },
        {
          "output_type": "display_data",
          "data": {
            "image/png": "[encoded data removed]",
            "text/plain": [
              "<Figure size 432x288 with 1 Axes>"
            ]
          },
          "metadata": {
            "tags": []
          }
        }
      ]
    },
    {
      "cell_type": "code",
      "metadata": {
        "colab": {
          "base_uri": "https://localhost:8080/",
          "height": 304
        },
        "id": "qw_2X9165tcw",
        "outputId": "56b9e85e-c8c3-412a-fe36-2dea9b37bcad"
      },
      "source": [
        "# a hist plot shows a quick breakdown of number of units sold per item per region\r\n",
        "sns.histplot(data=df, x=\"Region\", hue=\"Item\", multiple=\"stack\")"
      ],
      "execution_count": 22,
      "outputs": [
        {
          "output_type": "execute_result",
          "data": {
            "text/plain": [
              "<matplotlib.axes._subplots.AxesSubplot at 0x7fbecce92208>"
            ]
          },
          "metadata": {
            "tags": []
          },
          "execution_count": 22
        },
        {
          "output_type": "display_data",
          "data": {
            "image/png": "[encoded data removed]",
            "text/plain": [
              "<Figure size 432x288 with 1 Axes>"
            ]
          },
          "metadata": {
            "tags": []
          }
        }
      ]
    },
    {
      "cell_type": "code",
      "metadata": {
        "colab": {
          "base_uri": "https://localhost:8080/",
          "height": 382
        },
        "id": "QzQmos2Wu9uC",
        "outputId": "58fea9ab-c5ca-4ffb-92c6-bdab15082cc4"
      },
      "source": [
        "# use a catplot to see the breakdown of units sold per item per region\r\n",
        "u = sns.catplot(x=\"Item\", y=\"Units\", col=\"Region\",\r\n",
        "                data=df, saturation=.5,\r\n",
        "                kind=\"bar\", ci=None, aspect=.6)\r\n",
        "(u.set_axis_labels(\"\", \"Units Sold\")\r\n",
        "  .set_xticklabels([\"Pen Set\", \"Binder\", \"Pencil\", \"Desk\", \"Pen\"])\r\n",
        "  .set_titles(\"{col_name} {col_var}\")\r\n",
        "  .set(ylim=(0, 80))\r\n",
        "  .despine(left=True))  "
      ],
      "execution_count": 23,
      "outputs": [
        {
          "output_type": "execute_result",
          "data": {
            "text/plain": [
              "<seaborn.axisgrid.FacetGrid at 0x7fbeccdc30b8>"
            ]
          },
          "metadata": {
            "tags": []
          },
          "execution_count": 23
        },
        {
          "output_type": "display_data",
          "data": {
            "image/png": "[encoded data removed]",
            "text/plain": [
              "<Figure size 648x360 with 3 Axes>"
            ]
          },
          "metadata": {
            "tags": []
          }
        }
      ]
    },
    {
      "cell_type": "code",
      "metadata": {
        "colab": {
          "base_uri": "https://localhost:8080/",
          "height": 382
        },
        "id": "cyBIUjhP6lvW",
        "outputId": "bada53e0-4567-4c95-d01d-838ee80484f0"
      },
      "source": [
        "# compare to the above catplot, here showing total sales per item per region\r\n",
        "up = sns.catplot(x=\"Item\", y=\"Total Sales\", col=\"Region\",\r\n",
        "                data=df, saturation=.5,\r\n",
        "                kind=\"bar\", ci=None, aspect=.6)\r\n",
        "(up.set_axis_labels(\"\", \"Total Sales\")\r\n",
        "  .set_xticklabels([\"Pen Set\", \"Binder\", \"Pencil\", \"Desk\", \"Pen\"])\r\n",
        "  .set_titles(\"{col_name} {col_var}\")\r\n",
        "  .set(ylim=(0, 1000))\r\n",
        "  .despine(left=True)) "
      ],
      "execution_count": 24,
      "outputs": [
        {
          "output_type": "execute_result",
          "data": {
            "text/plain": [
              "<seaborn.axisgrid.FacetGrid at 0x7fbec44aaa58>"
            ]
          },
          "metadata": {
            "tags": []
          },
          "execution_count": 24
        },
        {
          "output_type": "display_data",
          "data": {
            "image/png": "[encoded data removed]",
            "text/plain": [
              "<Figure size 648x360 with 3 Axes>"
            ]
          },
          "metadata": {
            "tags": []
          }
        }
      ]
    },
    {
      "cell_type": "markdown",
      "metadata": {
        "id": "o1cMXAsUxbZK"
      },
      "source": [
        "# 4. After identifying the most popular item, what is its percentage of total sales across all regions?\r\n",
        "\r\n",
        "About 49% of revenue is earned from binder sales."
      ]
    },
    {
      "cell_type": "code",
      "metadata": {
        "colab": {
          "base_uri": "https://localhost:8080/"
        },
        "id": "FMfSsaReBbn6",
        "outputId": "8287ee71-4530-4267-87c6-d82d567cc5d7"
      },
      "source": [
        "df.groupby(by=['Item'])['Total Sales'].sum()"
      ],
      "execution_count": 25,
      "outputs": [
        {
          "output_type": "execute_result",
          "data": {
            "text/plain": [
              "Item\n",
              "Binder     9577.65\n",
              "Desk       1700.00\n",
              "Pen        2045.22\n",
              "Pen Set    4169.87\n",
              "Pencil     2135.14\n",
              "Name: Total Sales, dtype: float64"
            ]
          },
          "metadata": {
            "tags": []
          },
          "execution_count": 25
        }
      ]
    },
    {
      "cell_type": "code",
      "metadata": {
        "id": "beL6k20gyHKG"
      },
      "source": [
        "binder = df['Item'] == 'Binder'\r\n",
        "binder_sales = df.groupby(by=binder)['Total Sales'].sum()"
      ],
      "execution_count": 26,
      "outputs": []
    },
    {
      "cell_type": "code",
      "metadata": {
        "colab": {
          "base_uri": "https://localhost:8080/"
        },
        "id": "oLEAg2XhxeXN",
        "outputId": "d02fba96-00aa-4b72-e7ee-bb09712fc3ca"
      },
      "source": [
        "grand_total = (sum(df['Total Sales']))\r\n",
        "print(grand_total)"
      ],
      "execution_count": 27,
      "outputs": [
        {
          "output_type": "stream",
          "text": [
            "19627.879999999997\n"
          ],
          "name": "stdout"
        }
      ]
    },
    {
      "cell_type": "code",
      "metadata": {
        "colab": {
          "base_uri": "https://localhost:8080/"
        },
        "id": "feBWuXYmBsFH",
        "outputId": "19d6acbe-d25b-4cdc-f7c7-7b800a5d3324"
      },
      "source": [
        "binder_sales / grand_total"
      ],
      "execution_count": 28,
      "outputs": [
        {
          "output_type": "execute_result",
          "data": {
            "text/plain": [
              "Item\n",
              "False    0.512038\n",
              "True     0.487962\n",
              "Name: Total Sales, dtype: float64"
            ]
          },
          "metadata": {
            "tags": []
          },
          "execution_count": 28
        }
      ]
    },
    {
      "cell_type": "markdown",
      "metadata": {
        "id": "e5Ijg8mvCvLm"
      },
      "source": [
        "# 5. Which months have the highest sales?\r\n",
        "\r\n",
        "Though, in order, the months with the most units sold are April 2015, December 2014, and May 2015 the three months with the highest sales in order December 2014, July 2014, and February 2014. More units sold doesn't necessarily indicate more revenue."
      ]
    },
    {
      "cell_type": "code",
      "metadata": {
        "colab": {
          "base_uri": "https://localhost:8080/",
          "height": 293
        },
        "id": "If0BjyVClAf8",
        "outputId": "a1d6cf6d-079f-4685-da75-2b1ea41ef274"
      },
      "source": [
        "# with total sales information, plot total sales fluctuations over time\r\n",
        "df.groupby('OrderDate').sum()['Total Sales'].plot()\r\n",
        "plt.tight_layout()"
      ],
      "execution_count": 29,
      "outputs": [
        {
          "output_type": "display_data",
          "data": {
            "image/png": "[encoded data removed]",
            "text/plain": [
              "<Figure size 432x288 with 1 Axes>"
            ]
          },
          "metadata": {
            "tags": []
          }
        }
      ]
    },
    {
      "cell_type": "code",
      "metadata": {
        "colab": {
          "base_uri": "https://localhost:8080/"
        },
        "id": "Z21TgTEADvWz",
        "outputId": "58844a10-ff18-4b45-8fc8-583a465c6503"
      },
      "source": [
        "bymonth_df = df.groupby(['Month', 'Year']).agg({'Units': sum, 'Total Sales': sum})\r\n",
        "print(bymonth_df)"
      ],
      "execution_count": 37,
      "outputs": [
        {
          "output_type": "stream",
          "text": [
            "            Units  Total Sales\n",
            "Month Year                    \n",
            "1     2015    191      1602.09\n",
            "2     2015    154      2044.33\n",
            "3     2015    113       556.87\n",
            "4     2015    297      1059.03\n",
            "5     2015    255      1300.35\n",
            "6     2015    155      1613.50\n",
            "7     2014    227      2673.23\n",
            "8     2014     80      2005.55\n",
            "9     2014    101       666.11\n",
            "10    2014    163      1984.57\n",
            "11    2014    122       833.78\n",
            "12    2014    263      3288.47\n"
          ],
          "name": "stdout"
        }
      ]
    },
    {
      "cell_type": "code",
      "metadata": {
        "colab": {
          "base_uri": "https://localhost:8080/"
        },
        "id": "ungyAi_BZLrS",
        "outputId": "3637967c-cb08-4619-9d24-c2b5c8cb640f"
      },
      "source": [
        "bestmonths = bymonth_df.max()\r\n",
        "print(bestmonths)"
      ],
      "execution_count": 44,
      "outputs": [
        {
          "output_type": "stream",
          "text": [
            "Units           297.00\n",
            "Total Sales    3288.47\n",
            "dtype: float64\n"
          ],
          "name": "stdout"
        }
      ]
    },
    {
      "cell_type": "markdown",
      "metadata": {
        "id": "Ob4Vc9FeJL1-"
      },
      "source": [
        "# 6. Which reps have the highest sales, in units sold and total sales?\r\n",
        "\r\n",
        "Richard sold the highest number of units, Matthew earned the highest revenue."
      ]
    },
    {
      "cell_type": "code",
      "metadata": {
        "colab": {
          "base_uri": "https://localhost:8080/"
        },
        "id": "0VbhleckSukV",
        "outputId": "65edd803-137e-4701-ddc5-54dd15b22c59"
      },
      "source": [
        "rep_df = df.groupby(['Rep']).agg({'Units': sum, 'Total Sales': sum})\r\n",
        "print(rep_df)"
      ],
      "execution_count": 31,
      "outputs": [
        {
          "output_type": "stream",
          "text": [
            "         Units  Total Sales\n",
            "Rep                        \n",
            "Alex       281      2812.19\n",
            "Bill       213      1749.87\n",
            "James      142      1283.61\n",
            "Matthew    193      3109.44\n",
            "Morgan     173      1387.77\n",
            "Nick       125       536.75\n",
            "Rachel     183       438.37\n",
            "Richard    396      2363.04\n",
            "Smith      156      1641.43\n",
            "Susan      170      3102.30\n",
            "Thomas      89      1203.11\n"
          ],
          "name": "stdout"
        }
      ]
    },
    {
      "cell_type": "code",
      "metadata": {
        "colab": {
          "base_uri": "https://localhost:8080/"
        },
        "id": "t0_Tg1vJTp83",
        "outputId": "86250080-3b2c-4a02-e7f6-9c6176ab0d74"
      },
      "source": [
        "maxValues = rep_df.max()\r\n",
        "print(maxValues)"
      ],
      "execution_count": 32,
      "outputs": [
        {
          "output_type": "stream",
          "text": [
            "Units           396.00\n",
            "Total Sales    3109.44\n",
            "dtype: float64\n"
          ],
          "name": "stdout"
        }
      ]
    },
    {
      "cell_type": "code",
      "metadata": {
        "colab": {
          "base_uri": "https://localhost:8080/",
          "height": 106
        },
        "id": "vmhdxz-sUhn1",
        "outputId": "97e26d94-1e10-4d95-844c-4524b6ca1dda"
      },
      "source": [
        "rep_df.loc[rep_df['Units'] == 396.00]"
      ],
      "execution_count": 33,
      "outputs": [
        {
          "output_type": "execute_result",
          "data": {
            "text/html": [
              "<div>\n",
              "<style scoped>\n",
              "    .dataframe tbody tr th:only-of-type {\n",
              "        vertical-align: middle;\n",
              "    }\n",
              "\n",
              "    .dataframe tbody tr th {\n",
              "        vertical-align: top;\n",
              "    }\n",
              "\n",
              "    .dataframe thead th {\n",
              "        text-align: right;\n",
              "    }\n",
              "</style>\n",
              "<table border=\"1\" class=\"dataframe\">\n",
              "  <thead>\n",
              "    <tr style=\"text-align: right;\">\n",
              "      <th></th>\n",
              "      <th>Units</th>\n",
              "      <th>Total Sales</th>\n",
              "    </tr>\n",
              "    <tr>\n",
              "      <th>Rep</th>\n",
              "      <th></th>\n",
              "      <th></th>\n",
              "    </tr>\n",
              "  </thead>\n",
              "  <tbody>\n",
              "    <tr>\n",
              "      <th>Richard</th>\n",
              "      <td>396</td>\n",
              "      <td>2363.04</td>\n",
              "    </tr>\n",
              "  </tbody>\n",
              "</table>\n",
              "</div>"
            ],
            "text/plain": [
              "         Units  Total Sales\n",
              "Rep                        \n",
              "Richard    396      2363.04"
            ]
          },
          "metadata": {
            "tags": []
          },
          "execution_count": 33
        }
      ]
    },
    {
      "cell_type": "code",
      "metadata": {
        "colab": {
          "base_uri": "https://localhost:8080/",
          "height": 106
        },
        "id": "2ZcdC1stVhkX",
        "outputId": "738fa954-7b82-4f05-e512-03b042147055"
      },
      "source": [
        "rep_df.loc[rep_df['Total Sales'] == 3109.44]"
      ],
      "execution_count": 34,
      "outputs": [
        {
          "output_type": "execute_result",
          "data": {
            "text/html": [
              "<div>\n",
              "<style scoped>\n",
              "    .dataframe tbody tr th:only-of-type {\n",
              "        vertical-align: middle;\n",
              "    }\n",
              "\n",
              "    .dataframe tbody tr th {\n",
              "        vertical-align: top;\n",
              "    }\n",
              "\n",
              "    .dataframe thead th {\n",
              "        text-align: right;\n",
              "    }\n",
              "</style>\n",
              "<table border=\"1\" class=\"dataframe\">\n",
              "  <thead>\n",
              "    <tr style=\"text-align: right;\">\n",
              "      <th></th>\n",
              "      <th>Units</th>\n",
              "      <th>Total Sales</th>\n",
              "    </tr>\n",
              "    <tr>\n",
              "      <th>Rep</th>\n",
              "      <th></th>\n",
              "      <th></th>\n",
              "    </tr>\n",
              "  </thead>\n",
              "  <tbody>\n",
              "    <tr>\n",
              "      <th>Matthew</th>\n",
              "      <td>193</td>\n",
              "      <td>3109.44</td>\n",
              "    </tr>\n",
              "  </tbody>\n",
              "</table>\n",
              "</div>"
            ],
            "text/plain": [
              "         Units  Total Sales\n",
              "Rep                        \n",
              "Matthew    193      3109.44"
            ]
          },
          "metadata": {
            "tags": []
          },
          "execution_count": 34
        }
      ]
    }
  ]
}